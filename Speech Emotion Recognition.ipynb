{
 "cells": [
  {
   "cell_type": "code",
   "execution_count": 16,
   "id": "4bbefbfd-89cb-4760-a990-3fb4f0dc43fe",
   "metadata": {},
   "outputs": [
    {
     "data": {
      "image/png": "[encoded data removed]",
      "text/plain": [
       "<Figure size 432x288 with 1 Axes>"
      ]
     },
     "metadata": {
      "needs_background": "light"
     },
     "output_type": "display_data"
    },
    {
     "name": "stdout",
     "output_type": "stream",
     "text": [
      "Naive Bayes Accuracy: 1.000\n",
      "SVM Accuracy: 1.000\n"
     ]
    }
   ],
   "source": [
    "import pandas as pd\n",
    "import numpy as np\n",
    "import matplotlib.pyplot as plt\n",
    "from sklearn.model_selection import train_test_split\n",
    "from sklearn.feature_extraction.text import TfidfVectorizer\n",
    "from sklearn.naive_bayes import MultinomialNB\n",
    "from sklearn.svm import SVC \n",
    "from sklearn.metrics import accuracy_score\n",
    "\n",
    "# Load dataset\n",
    "df = pd.read_csv('speech_emotions.csv')\n",
    "\n",
    "# Text preprocessing\n",
    "df['text'] = df['text'].apply(lambda x: x.lower())\n",
    "df['text'] = df['text'].apply(lambda x: x.strip())\n",
    "\n",
    "# Define emotion labels\n",
    "emotion_dict = {\n",
    "    'happy': ['eager', 'fascinated', 'victory'],\n",
    "    'sad': ['tension', 'grief'], \n",
    "    'fearful': ['suspense'],\n",
    "    'angry': ['furious'],\n",
    "}\n",
    "\n",
    "def deduce_emotion(text):\n",
    "    for emotion, keywords in emotion_dict.items():\n",
    "        for word in keywords:\n",
    "            if word in text:\n",
    "                return emotion\n",
    "    return 'neutral'\n",
    "\n",
    "df['emotion'] = df['text'].apply(lambda x : deduce_emotion(x))\n",
    "\n",
    "# Vectorization\n",
    "vectorizer = TfidfVectorizer()\n",
    "X = vectorizer.fit_transform(df['text'])\n",
    "y = df['emotion']\n",
    "\n",
    "# Train test split\n",
    "X_train, X_test, y_train, y_test = train_test_split(X, y, test_size=0.3, random_state=42) \n",
    "\n",
    "# Train models\n",
    "nb = MultinomialNB()\n",
    "nb.fit(X_train, y_train)\n",
    "\n",
    "svm = SVC()\n",
    "svm.fit(X_train, y_train)\n",
    "\n",
    "# Evaluate models\n",
    "nb_pred = nb.predict(X_test)\n",
    "svm_pred = svm.predict(X_test)\n",
    "\n",
    "nb_acc = accuracy_score(y_test, nb_pred)\n",
    "svm_acc = accuracy_score(y_test, svm_pred)\n",
    "\n",
    "# Plot result  \n",
    "models = ['Naive Bayes', 'SVM']\n",
    "accuracy = [nb_acc, svm_acc]\n",
    "\n",
    "fig, ax = plt.subplots() \n",
    "ax.bar(models, accuracy)\n",
    "ax.set_title(\"Model Accuracies\")\n",
    "plt.show()\n",
    "\n",
    "print(f'Naive Bayes Accuracy: {nb_acc:.3f}')\n",
    "print(f'SVM Accuracy: {svm_acc:.3f}')"
   ]
  },
  {
   "cell_type": "code",
   "execution_count": null,
   "id": "b4594327-7777-41a3-aa86-a9a7fa9958ed",
   "metadata": {},
   "outputs": [],
   "source": []
  }
 ],
 "metadata": {
  "kernelspec": {
   "display_name": "anaconda-2022.05-py39",
   "language": "python",
   "name": "conda-env-anaconda-2022.05-py39-py"
  },
  "language_info": {
   "codemirror_mode": {
    "name": "ipython",
    "version": 3
   },
   "file_extension": ".py",
   "mimetype": "text/x-python",
   "name": "python",
   "nbconvert_exporter": "python",
   "pygments_lexer": "ipython3",
   "version": "3.9.12"
  }
 },
 "nbformat": 4,
 "nbformat_minor": 5
}
